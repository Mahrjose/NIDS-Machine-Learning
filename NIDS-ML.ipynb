{
 "cells": [
  {
   "cell_type": "code",
   "execution_count": null,
   "metadata": {},
   "outputs": [],
   "source": [
    "import numpy as np\n",
    "import pandas as pd\n",
    "import matplotlib.pyplot as plt\n",
    "import seaborn as sns\n",
    "\n",
    "from scipy.io import arff"
   ]
  },
  {
   "cell_type": "code",
   "execution_count": null,
   "metadata": {},
   "outputs": [],
   "source": [
    "largeDataSet = './data/raw/KDDTrain.arff'\n",
    "smallDataSet = './data/raw/KDDTrain_20Percent.arff'\n",
    "\n",
    "# Loading the .arff data format into a pandas dataframe\n",
    "data, meta = arff.loadarff(smallDataSet)\n",
    "df = pd.DataFrame(data)\n",
    "\n",
    "# Review of the dataset\n",
    "df.head(3)"
   ]
  },
  {
   "cell_type": "code",
   "execution_count": 11,
   "metadata": {},
   "outputs": [
    {
     "name": "stdout",
     "output_type": "stream",
     "text": [
      "<class 'pandas.core.frame.DataFrame'>\n",
      "RangeIndex: 25192 entries, 0 to 25191\n",
      "Data columns (total 42 columns):\n",
      " #   Column                       Non-Null Count  Dtype  \n",
      "---  ------                       --------------  -----  \n",
      " 0   duration                     25192 non-null  float64\n",
      " 1   protocol_type                25192 non-null  object \n",
      " 2   service                      25192 non-null  object \n",
      " 3   flag                         25192 non-null  object \n",
      " 4   src_bytes                    25192 non-null  float64\n",
      " 5   dst_bytes                    25192 non-null  float64\n",
      " 6   land                         25192 non-null  object \n",
      " 7   wrong_fragment               25192 non-null  float64\n",
      " 8   urgent                       25192 non-null  float64\n",
      " 9   hot                          25192 non-null  float64\n",
      " 10  num_failed_logins            25192 non-null  float64\n",
      " 11  logged_in                    25192 non-null  object \n",
      " 12  num_compromised              25192 non-null  float64\n",
      " 13  root_shell                   25192 non-null  float64\n",
      " 14  su_attempted                 25192 non-null  float64\n",
      " 15  num_root                     25192 non-null  float64\n",
      " 16  num_file_creations           25192 non-null  float64\n",
      " 17  num_shells                   25192 non-null  float64\n",
      " 18  num_access_files             25192 non-null  float64\n",
      " 19  num_outbound_cmds            25192 non-null  float64\n",
      " 20  is_host_login                25192 non-null  object \n",
      " 21  is_guest_login               25192 non-null  object \n",
      " 22  count                        25192 non-null  float64\n",
      " 23  srv_count                    25192 non-null  float64\n",
      " 24  serror_rate                  25192 non-null  float64\n",
      " 25  srv_serror_rate              25192 non-null  float64\n",
      " 26  rerror_rate                  25192 non-null  float64\n",
      " 27  srv_rerror_rate              25192 non-null  float64\n",
      " 28  same_srv_rate                25192 non-null  float64\n",
      " 29  diff_srv_rate                25192 non-null  float64\n",
      " 30  srv_diff_host_rate           25192 non-null  float64\n",
      " 31  dst_host_count               25192 non-null  float64\n",
      " 32  dst_host_srv_count           25192 non-null  float64\n",
      " 33  dst_host_same_srv_rate       25192 non-null  float64\n",
      " 34  dst_host_diff_srv_rate       25192 non-null  float64\n",
      " 35  dst_host_same_src_port_rate  25192 non-null  float64\n",
      " 36  dst_host_srv_diff_host_rate  25192 non-null  float64\n",
      " 37  dst_host_serror_rate         25192 non-null  float64\n",
      " 38  dst_host_srv_serror_rate     25192 non-null  float64\n",
      " 39  dst_host_rerror_rate         25192 non-null  float64\n",
      " 40  dst_host_srv_rerror_rate     25192 non-null  float64\n",
      " 41  class                        25192 non-null  object \n",
      "dtypes: float64(34), object(8)\n",
      "memory usage: 8.1+ MB\n"
     ]
    }
   ],
   "source": [
    "# Dataset summary\n",
    "df.info()\n",
    "# Also need to list the number of categorical and numerical values feature numbers"
   ]
  },
  {
   "cell_type": "markdown",
   "metadata": {},
   "source": [
    "### Data Cleaing : Handling & Imputing Missing Values\n",
    "\n",
    "In this stage we're ensuring there's no missing / null values in the datset."
   ]
  },
  {
   "cell_type": "code",
   "execution_count": null,
   "metadata": {},
   "outputs": [],
   "source": [
    "# Manually Checking if data include missing values\n",
    "missingValues = df.isnull().sum()\n",
    "print(f\"Missing Values in every Column: \\n{missingValues}\")"
   ]
  },
  {
   "cell_type": "code",
   "execution_count": null,
   "metadata": {},
   "outputs": [],
   "source": [
    "# Checking Anomolies in the dataset\n",
    "print(f\"Descriptive Statistics: \\n{df.describe(include='all')}\")\n"
   ]
  },
  {
   "cell_type": "markdown",
   "metadata": {},
   "source": [
    "Since there's no missing values in the dataset, we don't need to handle/ impute missing values.\n",
    "Also, sinse every feature is complete with its values, we don't need to drop any feature.\n",
    "\n",
    "## Feature Scaling\n",
    "Since the datavalues are not in the same range, we need to scale them to the same range. We can choose between the two methods: MinMaxScaler and StandardScaler.\n",
    "\n",
    "For choosing one of them let's first plot the distribution of the values of each feature to check for outliers."
   ]
  },
  {
   "cell_type": "code",
   "execution_count": null,
   "metadata": {},
   "outputs": [],
   "source": [
    "# Select only numeric columns for outlier visualization\n",
    "numeric_columns = df.select_dtypes(include=['int64','float64'])\n",
    "\n",
    "# Create a boxplot to visualize outliers using Z-scores\n",
    "plt.figure(figsize=(12, 6))\n",
    "sns.boxplot(data=numeric_columns, orient='h', palette='Set2')\n",
    "plt.title('Boxplot of Numeric Features with Outliers')\n",
    "plt.xlabel('Z-score')\n",
    "plt.show()\n"
   ]
  },
  {
   "cell_type": "code",
   "execution_count": null,
   "metadata": {},
   "outputs": [],
   "source": [
    "from sklearn.preprocessing import MinMaxScaler\n",
    "\n",
    "# Separate categorical and numeric columns\n",
    "categorical_columns = df.select_dtypes(include=['object']).columns.tolist()[:-1]  # Exclude the class column\n",
    "numeric_columns = df.select_dtypes(include=['int64', 'float64']).columns.tolist()\n",
    "\n",
    "\n",
    "# One-hot encode categorical columns\n",
    "encoded_columns = pd.get_dummies(df[categorical_columns], drop_first=True)\n",
    "\n",
    "# Scale numeric columns using MinMaxScaler\n",
    "scaler = MinMaxScaler()\n",
    "scaled_columns = scaler.fit_transform(df[numeric_columns])\n",
    "\n",
    "\n",
    "# Convert the scaled numeric columns back to a DataFrame with appropriate column names\n",
    "scaled_df = pd.DataFrame(scaled_columns, columns=numeric_columns)\n",
    "# Combine the scaled numeric and encoded categorical features\n",
    "processed_data = pd.concat([scaled_df, encoded_columns], axis=1)"
   ]
  },
  {
   "cell_type": "code",
   "execution_count": null,
   "metadata": {},
   "outputs": [],
   "source": [
    "plt.figure(figsize=(15, 15))\n",
    "sns.heatmap(processed_data.corr(), cmap='YlGnBu')\n",
    "plt.title('Correlation Heatmap')\n",
    "plt.show()\n",
    "\n",
    "# PCA Algorithm for Dimensionality Reduction"
   ]
  },
  {
   "cell_type": "code",
   "execution_count": null,
   "metadata": {},
   "outputs": [],
   "source": [
    "from pandas.plotting import scatter_matrix\n",
    "\n",
    "# Specify the alpha parameter to control transparency of data points\n",
    "scatter_matrix(df[[\"protocol_type\", \"service\", \"flag\", \"src_bytes\", \"dst_bytes\", \"land\", \"wrong_fragment\", \"urgent\", \"hot\", \"class\"]], c=df[\"class\"], figsize=(15, 15))\n",
    "plt.show()\n"
   ]
  },
  {
   "cell_type": "code",
   "execution_count": null,
   "metadata": {},
   "outputs": [],
   "source": []
  }
 ],
 "metadata": {
  "kernelspec": {
   "display_name": ".venv",
   "language": "python",
   "name": "python3"
  },
  "language_info": {
   "codemirror_mode": {
    "name": "ipython",
    "version": 3
   },
   "file_extension": ".py",
   "mimetype": "text/x-python",
   "name": "python",
   "nbconvert_exporter": "python",
   "pygments_lexer": "ipython3",
   "version": "3.11.3"
  },
  "orig_nbformat": 4
 },
 "nbformat": 4,
 "nbformat_minor": 2
}
