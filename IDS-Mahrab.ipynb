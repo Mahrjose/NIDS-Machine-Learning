{
  "nbformat": 4,
  "nbformat_minor": 0,
  "metadata": {
    "colab": {
      "provenance": [],
      "authorship_tag": "ABX9TyN+foq65Xs/9MTE0WdVcxj3",
      "include_colab_link": true
    },
    "kernelspec": {
      "name": "python3",
      "display_name": "Python 3"
    },
    "language_info": {
      "name": "python"
    }
  },
  "cells": [
    {
      "cell_type": "markdown",
      "metadata": {
        "id": "view-in-github",
        "colab_type": "text"
      },
      "source": [
        "<a href=\"https://colab.research.google.com/github/Mahrjose/NIDS-Machine-Learning/blob/mahrab/IDS-Mahrab.ipynb\" target=\"_parent\"><img src=\"https://colab.research.google.com/assets/colab-badge.svg\" alt=\"Open In Colab\"/></a>"
      ]
    },
    {
      "cell_type": "code",
      "execution_count": 1,
      "metadata": {
        "id": "1yvGF7vXRHj0",
        "colab": {
          "base_uri": "https://localhost:8080/"
        },
        "outputId": "b21f0c7a-d635-4e15-fb16-ac4b46776c44"
      },
      "outputs": [
        {
          "output_type": "stream",
          "name": "stdout",
          "text": [
            "Hey testing googlecolab for my project\n"
          ]
        }
      ],
      "source": [
        "print(\"Hey testing googlecolab for my project\")"
      ]
    }
  ]
}